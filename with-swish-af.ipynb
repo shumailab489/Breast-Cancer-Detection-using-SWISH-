{
 "cells": [
  {
   "cell_type": "code",
   "execution_count": 1,
   "id": "99f9a4d1",
   "metadata": {
    "execution": {
     "iopub.execute_input": "2024-03-09T01:37:03.320241Z",
     "iopub.status.busy": "2024-03-09T01:37:03.319895Z",
     "iopub.status.idle": "2024-03-09T01:37:16.231797Z",
     "shell.execute_reply": "2024-03-09T01:37:16.230988Z"
    },
    "papermill": {
     "duration": 12.920512,
     "end_time": "2024-03-09T01:37:16.234058",
     "exception": false,
     "start_time": "2024-03-09T01:37:03.313546",
     "status": "completed"
    },
    "tags": []
   },
   "outputs": [
    {
     "name": "stderr",
     "output_type": "stream",
     "text": [
      "2024-03-09 01:37:05.745554: E external/local_xla/xla/stream_executor/cuda/cuda_dnn.cc:9261] Unable to register cuDNN factory: Attempting to register factory for plugin cuDNN when one has already been registered\n",
      "2024-03-09 01:37:05.745656: E external/local_xla/xla/stream_executor/cuda/cuda_fft.cc:607] Unable to register cuFFT factory: Attempting to register factory for plugin cuFFT when one has already been registered\n",
      "2024-03-09 01:37:05.875719: E external/local_xla/xla/stream_executor/cuda/cuda_blas.cc:1515] Unable to register cuBLAS factory: Attempting to register factory for plugin cuBLAS when one has already been registered\n"
     ]
    }
   ],
   "source": [
    "import numpy as np \n",
    "import pandas as pd \n",
    "import os\n",
    "import shutil\n",
    "import glob\n",
    "import random\n",
    "from tensorflow.keras.preprocessing.image import ImageDataGenerator\n",
    "import tensorflow as tf"
   ]
  },
  {
   "cell_type": "code",
   "execution_count": 2,
   "id": "9e26ea4d",
   "metadata": {
    "execution": {
     "iopub.execute_input": "2024-03-09T01:37:16.244781Z",
     "iopub.status.busy": "2024-03-09T01:37:16.244263Z",
     "iopub.status.idle": "2024-03-09T01:37:16.253581Z",
     "shell.execute_reply": "2024-03-09T01:37:16.252776Z"
    },
    "papermill": {
     "duration": 0.01664,
     "end_time": "2024-03-09T01:37:16.255527",
     "exception": false,
     "start_time": "2024-03-09T01:37:16.238887",
     "status": "completed"
    },
    "tags": []
   },
   "outputs": [],
   "source": [
    "def create_data_path(base_path,input_path):\n",
    "    try:\n",
    "        os.makedirs(os.path.join(base_path,'training'))\n",
    "        os.makedirs(os.path.join(base_path, 'training/0'))\n",
    "        os.makedirs(os.path.join(base_path, 'training/1'))\n",
    "        os.makedirs(os.path.join(base_path,'validation'))\n",
    "        os.makedirs(os.path.join(base_path, 'validation/1'))\n",
    "        os.makedirs(os.path.join(base_path, 'validation/0'))\n",
    "    except:\n",
    "        print(\"the folders already exist\")\n",
    "    list_dir=glob.glob(os.path.join(input_path,'*'))\n",
    "    print(list_dir)\n",
    "    for id in list_dir:\n",
    "        list_file_0=glob.glob(os.path.join(id,'0/*'))\n",
    "        list_file_1= glob.glob(os.path.join(id, '1/*'))\n",
    "        for file_0 in list_file_0:\n",
    "            src_path = file_0\n",
    "            dst_path = os.path.join(os.path.join(base_path, 'training/0'), os.path.basename(file_0))\n",
    "            shutil.copy(src_path, dst_path)\n",
    "\n",
    "        for file_1 in list_file_1:\n",
    "            src_path = file_1\n",
    "            dst_path = os.path.join(os.path.join(base_path, 'training/1'), os.path.basename(file_1))\n",
    "            shutil.copy(src_path, dst_path)"
   ]
  },
  {
   "cell_type": "code",
   "execution_count": 3,
   "id": "5b65b1b3",
   "metadata": {
    "execution": {
     "iopub.execute_input": "2024-03-09T01:37:16.265301Z",
     "iopub.status.busy": "2024-03-09T01:37:16.265028Z",
     "iopub.status.idle": "2024-03-09T01:37:16.269749Z",
     "shell.execute_reply": "2024-03-09T01:37:16.268942Z"
    },
    "papermill": {
     "duration": 0.011764,
     "end_time": "2024-03-09T01:37:16.271653",
     "exception": false,
     "start_time": "2024-03-09T01:37:16.259889",
     "status": "completed"
    },
    "tags": []
   },
   "outputs": [],
   "source": [
    "def remove_dir(base_path):\n",
    "    try:\n",
    "        shutil.rmtree(os.path.join(base_path,'training'))\n",
    "        shutil.rmtree(os.path.join(base_path,'validation'))\n",
    "    except Exception as e:\n",
    "        print(\"problem removing directories\")\n",
    "        print(str(e))"
   ]
  },
  {
   "cell_type": "code",
   "execution_count": 4,
   "id": "731828fa",
   "metadata": {
    "execution": {
     "iopub.execute_input": "2024-03-09T01:37:16.281298Z",
     "iopub.status.busy": "2024-03-09T01:37:16.281022Z",
     "iopub.status.idle": "2024-03-09T01:37:16.285255Z",
     "shell.execute_reply": "2024-03-09T01:37:16.284393Z"
    },
    "papermill": {
     "duration": 0.011388,
     "end_time": "2024-03-09T01:37:16.287393",
     "exception": false,
     "start_time": "2024-03-09T01:37:16.276005",
     "status": "completed"
    },
    "tags": []
   },
   "outputs": [
    {
     "name": "stdout",
     "output_type": "stream",
     "text": [
      "problem removing directories\n",
      "[Errno 2] No such file or directory: '/kaggle/working/training'\n"
     ]
    }
   ],
   "source": [
    "#for cleanup\n",
    "remove_dir('/kaggle/working/')"
   ]
  },
  {
   "cell_type": "code",
   "execution_count": 5,
   "id": "a872627e",
   "metadata": {
    "execution": {
     "iopub.execute_input": "2024-03-09T01:37:16.297190Z",
     "iopub.status.busy": "2024-03-09T01:37:16.296946Z",
     "iopub.status.idle": "2024-03-09T02:11:55.305524Z",
     "shell.execute_reply": "2024-03-09T02:11:55.304471Z"
    },
    "papermill": {
     "duration": 2079.016165,
     "end_time": "2024-03-09T02:11:55.307987",
     "exception": false,
     "start_time": "2024-03-09T01:37:16.291822",
     "status": "completed"
    },
    "tags": []
   },
   "outputs": [
    {
     "name": "stdout",
     "output_type": "stream",
     "text": [
      "['/kaggle/input/breast-histopathology-images/10295', '/kaggle/input/breast-histopathology-images/10304', '/kaggle/input/breast-histopathology-images/12868', '/kaggle/input/breast-histopathology-images/10274', '/kaggle/input/breast-histopathology-images/12818', '/kaggle/input/breast-histopathology-images/14190', '/kaggle/input/breast-histopathology-images/12869', '/kaggle/input/breast-histopathology-images/9323', '/kaggle/input/breast-histopathology-images/10291', '/kaggle/input/breast-histopathology-images/12906', '/kaggle/input/breast-histopathology-images/9176', '/kaggle/input/breast-histopathology-images/8984', '/kaggle/input/breast-histopathology-images/10299', '/kaggle/input/breast-histopathology-images/12930', '/kaggle/input/breast-histopathology-images/9344', '/kaggle/input/breast-histopathology-images/12935', '/kaggle/input/breast-histopathology-images/12894', '/kaggle/input/breast-histopathology-images/12909', '/kaggle/input/breast-histopathology-images/9381', '/kaggle/input/breast-histopathology-images/9346', '/kaggle/input/breast-histopathology-images/9175', '/kaggle/input/breast-histopathology-images/10262', '/kaggle/input/breast-histopathology-images/8980', '/kaggle/input/breast-histopathology-images/16896', '/kaggle/input/breast-histopathology-images/12241', '/kaggle/input/breast-histopathology-images/12910', '/kaggle/input/breast-histopathology-images/13617', '/kaggle/input/breast-histopathology-images/13401', '/kaggle/input/breast-histopathology-images/12891', '/kaggle/input/breast-histopathology-images/10300', '/kaggle/input/breast-histopathology-images/9076', '/kaggle/input/breast-histopathology-images/10259', '/kaggle/input/breast-histopathology-images/9124', '/kaggle/input/breast-histopathology-images/13402', '/kaggle/input/breast-histopathology-images/12870', '/kaggle/input/breast-histopathology-images/16550', '/kaggle/input/breast-histopathology-images/10255', '/kaggle/input/breast-histopathology-images/9261', '/kaggle/input/breast-histopathology-images/15471', '/kaggle/input/breast-histopathology-images/12931', '/kaggle/input/breast-histopathology-images/12955', '/kaggle/input/breast-histopathology-images/10258', '/kaggle/input/breast-histopathology-images/13461', '/kaggle/input/breast-histopathology-images/13023', '/kaggle/input/breast-histopathology-images/9260', '/kaggle/input/breast-histopathology-images/8957', '/kaggle/input/breast-histopathology-images/9035', '/kaggle/input/breast-histopathology-images/10268', '/kaggle/input/breast-histopathology-images/13403', '/kaggle/input/breast-histopathology-images/10288', '/kaggle/input/breast-histopathology-images/9262', '/kaggle/input/breast-histopathology-images/12911', '/kaggle/input/breast-histopathology-images/9319', '/kaggle/input/breast-histopathology-images/10254', '/kaggle/input/breast-histopathology-images/13616', '/kaggle/input/breast-histopathology-images/10253', '/kaggle/input/breast-histopathology-images/8974', '/kaggle/input/breast-histopathology-images/9135', '/kaggle/input/breast-histopathology-images/10257', '/kaggle/input/breast-histopathology-images/9291', '/kaggle/input/breast-histopathology-images/9320', '/kaggle/input/breast-histopathology-images/14209', '/kaggle/input/breast-histopathology-images/14078', '/kaggle/input/breast-histopathology-images/12749', '/kaggle/input/breast-histopathology-images/9043', '/kaggle/input/breast-histopathology-images/9041', '/kaggle/input/breast-histopathology-images/8975', '/kaggle/input/breast-histopathology-images/9075', '/kaggle/input/breast-histopathology-images/13025', '/kaggle/input/breast-histopathology-images/13021', '/kaggle/input/breast-histopathology-images/13458', '/kaggle/input/breast-histopathology-images/12901', '/kaggle/input/breast-histopathology-images/16552', '/kaggle/input/breast-histopathology-images/13688', '/kaggle/input/breast-histopathology-images/15902', '/kaggle/input/breast-histopathology-images/13692', '/kaggle/input/breast-histopathology-images/12879', '/kaggle/input/breast-histopathology-images/9073', '/kaggle/input/breast-histopathology-images/15514', '/kaggle/input/breast-histopathology-images/9325', '/kaggle/input/breast-histopathology-images/10277', '/kaggle/input/breast-histopathology-images/12810', '/kaggle/input/breast-histopathology-images/8864', '/kaggle/input/breast-histopathology-images/8917', '/kaggle/input/breast-histopathology-images/14305', '/kaggle/input/breast-histopathology-images/16167', '/kaggle/input/breast-histopathology-images/13022', '/kaggle/input/breast-histopathology-images/16555', '/kaggle/input/breast-histopathology-images/12932', '/kaggle/input/breast-histopathology-images/14189', '/kaggle/input/breast-histopathology-images/8867', '/kaggle/input/breast-histopathology-images/16166', '/kaggle/input/breast-histopathology-images/10290', '/kaggle/input/breast-histopathology-images/9083', '/kaggle/input/breast-histopathology-images/15840', '/kaggle/input/breast-histopathology-images/12907', '/kaggle/input/breast-histopathology-images/12880', '/kaggle/input/breast-histopathology-images/12908', '/kaggle/input/breast-histopathology-images/13693', '/kaggle/input/breast-histopathology-images/13591', '/kaggle/input/breast-histopathology-images/15516', '/kaggle/input/breast-histopathology-images/9228', '/kaggle/input/breast-histopathology-images/14192', '/kaggle/input/breast-histopathology-images/12949', '/kaggle/input/breast-histopathology-images/10306', '/kaggle/input/breast-histopathology-images/9345', '/kaggle/input/breast-histopathology-images/14156', '/kaggle/input/breast-histopathology-images/12872', '/kaggle/input/breast-histopathology-images/9123', '/kaggle/input/breast-histopathology-images/13019', '/kaggle/input/breast-histopathology-images/9226', '/kaggle/input/breast-histopathology-images/14304', '/kaggle/input/breast-histopathology-images/10260', '/kaggle/input/breast-histopathology-images/14154', '/kaggle/input/breast-histopathology-images/15472', '/kaggle/input/breast-histopathology-images/15903', '/kaggle/input/breast-histopathology-images/12826', '/kaggle/input/breast-histopathology-images/13020', '/kaggle/input/breast-histopathology-images/16569', '/kaggle/input/breast-histopathology-images/14191', '/kaggle/input/breast-histopathology-images/16568', '/kaggle/input/breast-histopathology-images/16570', '/kaggle/input/breast-histopathology-images/13459', '/kaggle/input/breast-histopathology-images/8956', '/kaggle/input/breast-histopathology-images/13106', '/kaggle/input/breast-histopathology-images/10261', '/kaggle/input/breast-histopathology-images/9023', '/kaggle/input/breast-histopathology-images/13460', '/kaggle/input/breast-histopathology-images/16532', '/kaggle/input/breast-histopathology-images/12819', '/kaggle/input/breast-histopathology-images/12867', '/kaggle/input/breast-histopathology-images/8959', '/kaggle/input/breast-histopathology-images/9265', '/kaggle/input/breast-histopathology-images/9255', '/kaggle/input/breast-histopathology-images/14082', '/kaggle/input/breast-histopathology-images/12929', '/kaggle/input/breast-histopathology-images/8914', '/kaggle/input/breast-histopathology-images/9383', '/kaggle/input/breast-histopathology-images/14210', '/kaggle/input/breast-histopathology-images/10302', '/kaggle/input/breast-histopathology-images/12822', '/kaggle/input/breast-histopathology-images/10276', '/kaggle/input/breast-histopathology-images/10279', '/kaggle/input/breast-histopathology-images/12876', '/kaggle/input/breast-histopathology-images/10269', '/kaggle/input/breast-histopathology-images/8865', '/kaggle/input/breast-histopathology-images/13400', '/kaggle/input/breast-histopathology-images/12948', '/kaggle/input/breast-histopathology-images/12748', '/kaggle/input/breast-histopathology-images/9126', '/kaggle/input/breast-histopathology-images/9266', '/kaggle/input/breast-histopathology-images/9177', '/kaggle/input/breast-histopathology-images/8955', '/kaggle/input/breast-histopathology-images/12900', '/kaggle/input/breast-histopathology-images/9181', '/kaggle/input/breast-histopathology-images/9257', '/kaggle/input/breast-histopathology-images/9322', '/kaggle/input/breast-histopathology-images/12751', '/kaggle/input/breast-histopathology-images/9081', '/kaggle/input/breast-histopathology-images/15634', '/kaggle/input/breast-histopathology-images/10286', '/kaggle/input/breast-histopathology-images/14213', '/kaggle/input/breast-histopathology-images/9256', '/kaggle/input/breast-histopathology-images/10308', '/kaggle/input/breast-histopathology-images/16165', '/kaggle/input/breast-histopathology-images/12823', '/kaggle/input/breast-histopathology-images/9225', '/kaggle/input/breast-histopathology-images/9227', '/kaggle/input/breast-histopathology-images/16551', '/kaggle/input/breast-histopathology-images/13613', '/kaggle/input/breast-histopathology-images/14306', '/kaggle/input/breast-histopathology-images/16085', '/kaggle/input/breast-histopathology-images/16534', '/kaggle/input/breast-histopathology-images/14188', '/kaggle/input/breast-histopathology-images/14212', '/kaggle/input/breast-histopathology-images/12824', '/kaggle/input/breast-histopathology-images/16554', '/kaggle/input/breast-histopathology-images/13691', '/kaggle/input/breast-histopathology-images/13916', '/kaggle/input/breast-histopathology-images/12877', '/kaggle/input/breast-histopathology-images/13024', '/kaggle/input/breast-histopathology-images/10264', '/kaggle/input/breast-histopathology-images/12884', '/kaggle/input/breast-histopathology-images/12750', '/kaggle/input/breast-histopathology-images/14081', '/kaggle/input/breast-histopathology-images/15473', '/kaggle/input/breast-histopathology-images/15839', '/kaggle/input/breast-histopathology-images/12896', '/kaggle/input/breast-histopathology-images/9267', '/kaggle/input/breast-histopathology-images/10278', '/kaggle/input/breast-histopathology-images/16533', '/kaggle/input/breast-histopathology-images/13404', '/kaggle/input/breast-histopathology-images/12893', '/kaggle/input/breast-histopathology-images/12892', '/kaggle/input/breast-histopathology-images/9125', '/kaggle/input/breast-histopathology-images/9029', '/kaggle/input/breast-histopathology-images/14211', '/kaggle/input/breast-histopathology-images/12626', '/kaggle/input/breast-histopathology-images/10275', '/kaggle/input/breast-histopathology-images/9174', '/kaggle/input/breast-histopathology-images/9250', '/kaggle/input/breast-histopathology-images/15515', '/kaggle/input/breast-histopathology-images/9173', '/kaggle/input/breast-histopathology-images/12895', '/kaggle/input/breast-histopathology-images/12897', '/kaggle/input/breast-histopathology-images/12882', '/kaggle/input/breast-histopathology-images/12875', '/kaggle/input/breast-histopathology-images/12905', '/kaggle/input/breast-histopathology-images/13666', '/kaggle/input/breast-histopathology-images/15633', '/kaggle/input/breast-histopathology-images/8863', '/kaggle/input/breast-histopathology-images/12934', '/kaggle/input/breast-histopathology-images/12890', '/kaggle/input/breast-histopathology-images/10305', '/kaggle/input/breast-histopathology-images/9036', '/kaggle/input/breast-histopathology-images/12883', '/kaggle/input/breast-histopathology-images/10307', '/kaggle/input/breast-histopathology-images/14153', '/kaggle/input/breast-histopathology-images/16531', '/kaggle/input/breast-histopathology-images/15632', '/kaggle/input/breast-histopathology-images/12820', '/kaggle/input/breast-histopathology-images/10272', '/kaggle/input/breast-histopathology-images/12871', '/kaggle/input/breast-histopathology-images/9382', '/kaggle/input/breast-histopathology-images/10256', '/kaggle/input/breast-histopathology-images/9258', '/kaggle/input/breast-histopathology-images/16014', '/kaggle/input/breast-histopathology-images/16895', '/kaggle/input/breast-histopathology-images/13462', '/kaggle/input/breast-histopathology-images/14079', '/kaggle/input/breast-histopathology-images/12817', '/kaggle/input/breast-histopathology-images/8918', '/kaggle/input/breast-histopathology-images/8916', '/kaggle/input/breast-histopathology-images/15510', '/kaggle/input/breast-histopathology-images/12878', '/kaggle/input/breast-histopathology-images/12242', '/kaggle/input/breast-histopathology-images/14321', '/kaggle/input/breast-histopathology-images/9044', '/kaggle/input/breast-histopathology-images/9324', '/kaggle/input/breast-histopathology-images/12933', '/kaggle/input/breast-histopathology-images/8951', '/kaggle/input/breast-histopathology-images/10273', '/kaggle/input/breast-histopathology-images/12811', '/kaggle/input/breast-histopathology-images/9078', '/kaggle/input/breast-histopathology-images/14157', '/kaggle/input/breast-histopathology-images/10282', '/kaggle/input/breast-histopathology-images/9290', '/kaggle/input/breast-histopathology-images/13694', '/kaggle/input/breast-histopathology-images/9321', '/kaggle/input/breast-histopathology-images/8950', '/kaggle/input/breast-histopathology-images/15513', '/kaggle/input/breast-histopathology-images/10285', '/kaggle/input/breast-histopathology-images/9022', '/kaggle/input/breast-histopathology-images/16553', '/kaggle/input/breast-histopathology-images/8913', '/kaggle/input/breast-histopathology-images/13018', '/kaggle/input/breast-histopathology-images/12821', '/kaggle/input/breast-histopathology-images/12951', '/kaggle/input/breast-histopathology-images/12898', '/kaggle/input/breast-histopathology-images/13687', '/kaggle/input/breast-histopathology-images/9178', '/kaggle/input/breast-histopathology-images/13689', '/kaggle/input/breast-histopathology-images/12947', '/kaggle/input/breast-histopathology-images/15512', '/kaggle/input/breast-histopathology-images/10303', '/kaggle/input/breast-histopathology-images/12881', '/kaggle/input/breast-histopathology-images/12886', '/kaggle/input/breast-histopathology-images/12752', '/kaggle/input/breast-histopathology-images/9347', '/kaggle/input/breast-histopathology-images/10301', '/kaggle/input/breast-histopathology-images/IDC_regular_ps50_idx5', '/kaggle/input/breast-histopathology-images/9254', '/kaggle/input/breast-histopathology-images/10293', '/kaggle/input/breast-histopathology-images/12954', '/kaggle/input/breast-histopathology-images/9259', '/kaggle/input/breast-histopathology-images/14155', '/kaggle/input/breast-histopathology-images/9077', '/kaggle/input/breast-histopathology-images/10292', '/kaggle/input/breast-histopathology-images/9037', '/kaggle/input/breast-histopathology-images/12873']\n"
     ]
    }
   ],
   "source": [
    "create_data_path('/kaggle/working/','/kaggle/input/breast-histopathology-images/')"
   ]
  },
  {
   "cell_type": "code",
   "execution_count": 6,
   "id": "e17904c9",
   "metadata": {
    "execution": {
     "iopub.execute_input": "2024-03-09T02:11:55.319500Z",
     "iopub.status.busy": "2024-03-09T02:11:55.319171Z",
     "iopub.status.idle": "2024-03-09T02:11:55.326753Z",
     "shell.execute_reply": "2024-03-09T02:11:55.325993Z"
    },
    "papermill": {
     "duration": 0.01531,
     "end_time": "2024-03-09T02:11:55.328684",
     "exception": false,
     "start_time": "2024-03-09T02:11:55.313374",
     "status": "completed"
    },
    "tags": []
   },
   "outputs": [],
   "source": [
    "def split_training_validation(base_path,split_size):\n",
    "    list_file_0=glob.glob(os.path.join(base_path,'training/0/*'))\n",
    "    list_file_1 = glob.glob(os.path.join(base_path, 'training/1/*'))\n",
    "    tot_file=list_file_1+list_file_0\n",
    "    random.shuffle(tot_file)\n",
    "    training_set=tot_file[0:int(len(tot_file)*split_size)]\n",
    "    validation_set=tot_file[int(len(tot_file)*split_size):]\n",
    "    for file in validation_set:\n",
    "        if file[-5]=='0':\n",
    "            dst_path = os.path.join(os.path.join(base_path, 'validation/0'), os.path.basename(file))\n",
    "            shutil.copy(file, dst_path)\n",
    "        elif file[-5]=='1':\n",
    "            dst_path = os.path.join(os.path.join(base_path, 'validation/1'), os.path.basename(file))\n",
    "            shutil.copy(file, dst_path)"
   ]
  },
  {
   "cell_type": "code",
   "execution_count": 7,
   "id": "231f27e7",
   "metadata": {
    "execution": {
     "iopub.execute_input": "2024-03-09T02:11:55.339104Z",
     "iopub.status.busy": "2024-03-09T02:11:55.338828Z",
     "iopub.status.idle": "2024-03-09T02:12:03.985075Z",
     "shell.execute_reply": "2024-03-09T02:12:03.984287Z"
    },
    "papermill": {
     "duration": 8.654041,
     "end_time": "2024-03-09T02:12:03.987399",
     "exception": false,
     "start_time": "2024-03-09T02:11:55.333358",
     "status": "completed"
    },
    "tags": []
   },
   "outputs": [],
   "source": [
    "training_split=0.8\n",
    "split_training_validation('/kaggle/working/',training_split)"
   ]
  },
  {
   "cell_type": "code",
   "execution_count": 8,
   "id": "30cd3ce9",
   "metadata": {
    "execution": {
     "iopub.execute_input": "2024-03-09T02:12:03.999114Z",
     "iopub.status.busy": "2024-03-09T02:12:03.998556Z",
     "iopub.status.idle": "2024-03-09T02:12:04.005089Z",
     "shell.execute_reply": "2024-03-09T02:12:04.004201Z"
    },
    "papermill": {
     "duration": 0.014535,
     "end_time": "2024-03-09T02:12:04.007164",
     "exception": false,
     "start_time": "2024-03-09T02:12:03.992629",
     "status": "completed"
    },
    "tags": []
   },
   "outputs": [],
   "source": [
    "def create_data_generator(base_path,target_size):\n",
    "    # All images will be rescaled by 1./255\n",
    "    train_datagen = ImageDataGenerator(rescale=1 / 255)\n",
    "    validation_datagen = ImageDataGenerator(rescale=1 / 255)\n",
    "\n",
    "    # Flow training images in batches of 128 using train_datagen generator\n",
    "    train_generator = train_datagen.flow_from_directory(\n",
    "        os.path.join(base_path,'training/'),  # This is the source directory for training images\n",
    "        target_size=target_size,  \n",
    "        batch_size=64,\n",
    "        # Since you use binary_crossentropy loss, you need binary labels\n",
    "        class_mode='binary')\n",
    "\n",
    "    # Flow validation images in batches of 128 using validation_datagen generator\n",
    "    validation_generator = validation_datagen.flow_from_directory(\n",
    "        os.path.join(base_path,'validation/'),  # This is the source directory for validation images\n",
    "        target_size=target_size,  \n",
    "        batch_size=64,\n",
    "        # Since you use binary_crossentropy loss, you need binary labels\n",
    "        class_mode='binary')\n",
    "    return train_generator,validation_generator"
   ]
  },
  {
   "cell_type": "code",
   "execution_count": 9,
   "id": "cda1a96a",
   "metadata": {
    "execution": {
     "iopub.execute_input": "2024-03-09T02:12:04.018254Z",
     "iopub.status.busy": "2024-03-09T02:12:04.017713Z",
     "iopub.status.idle": "2024-03-09T02:12:12.521004Z",
     "shell.execute_reply": "2024-03-09T02:12:12.519999Z"
    },
    "papermill": {
     "duration": 8.511563,
     "end_time": "2024-03-09T02:12:12.523611",
     "exception": false,
     "start_time": "2024-03-09T02:12:04.012048",
     "status": "completed"
    },
    "tags": []
   },
   "outputs": [
    {
     "name": "stdout",
     "output_type": "stream",
     "text": [
      "Found 277524 images belonging to 2 classes.\n",
      "Found 55505 images belonging to 2 classes.\n"
     ]
    }
   ],
   "source": [
    "train_generator,validation_generator=create_data_generator('/kaggle/working/',(50,50))"
   ]
  },
  {
   "cell_type": "code",
   "execution_count": 10,
   "id": "943ad7b1",
   "metadata": {
    "execution": {
     "iopub.execute_input": "2024-03-09T02:12:12.535445Z",
     "iopub.status.busy": "2024-03-09T02:12:12.534820Z",
     "iopub.status.idle": "2024-03-09T02:12:12.540073Z",
     "shell.execute_reply": "2024-03-09T02:12:12.539193Z"
    },
    "papermill": {
     "duration": 0.013146,
     "end_time": "2024-03-09T02:12:12.542014",
     "exception": false,
     "start_time": "2024-03-09T02:12:12.528868",
     "status": "completed"
    },
    "tags": []
   },
   "outputs": [],
   "source": [
    "class CustomCallback(tf.keras.callbacks.Callback):\n",
    "\n",
    "    def on_epoch_end(self, epoch, logs=None):\n",
    "        keys = list(logs.keys())\n",
    "        if (logs.get('val_accuracy') > 0.95):\n",
    "            print(\"\\nReached 95% accuracy so cancelling training!\")\n",
    "            self.model.stop_training = True"
   ]
  },
  {
   "cell_type": "code",
   "execution_count": 11,
   "id": "b54814f3",
   "metadata": {
    "execution": {
     "iopub.execute_input": "2024-03-09T02:12:12.553106Z",
     "iopub.status.busy": "2024-03-09T02:12:12.552843Z",
     "iopub.status.idle": "2024-03-09T02:12:12.562902Z",
     "shell.execute_reply": "2024-03-09T02:12:12.562062Z"
    },
    "papermill": {
     "duration": 0.017623,
     "end_time": "2024-03-09T02:12:12.564798",
     "exception": false,
     "start_time": "2024-03-09T02:12:12.547175",
     "status": "completed"
    },
    "tags": []
   },
   "outputs": [],
   "source": [
    "# Function to define Swish Activation\n",
    "def swish(x):\n",
    "    return x * tf.keras.activations.sigmoid(x)\n",
    "\n",
    "def create_model(input_shape):\n",
    "    model = tf.keras.models.Sequential([\n",
    "        \n",
    "        # This is the first convolution\n",
    "        tf.keras.layers.Conv2D(64, (3, 3), activation=swish, input_shape=input_shape),\n",
    "        tf.keras.layers.BatchNormalization(),\n",
    "        tf.keras.layers.MaxPooling2D(2, 2),\n",
    "        tf.keras.layers.Conv2D(128, (3, 3), activation=swish, input_shape=input_shape),\n",
    "        tf.keras.layers.BatchNormalization(),\n",
    "        tf.keras.layers.MaxPooling2D(2, 2),\n",
    "        tf.keras.layers.Conv2D(256, (3, 3), activation=swish, input_shape=input_shape),\n",
    "        tf.keras.layers.BatchNormalization(),\n",
    "        tf.keras.layers.MaxPooling2D(2, 2),\n",
    "        # Flatten the results to feed into a DNN\n",
    "        tf.keras.layers.Flatten(),\n",
    "        # 512 neuron hidden layer\n",
    "        tf.keras.layers.Dense(128, activation=swish),\n",
    "        tf.keras.layers.Dense(512, activation=swish),\n",
    "        tf.keras.layers.Dropout(0.4),\n",
    "\n",
    "        # Only 1 output neuron. \n",
    "        tf.keras.layers.Dense(1, activation='sigmoid')\n",
    "    ])\n",
    "    my_cb=CustomCallback()\n",
    "    \n",
    "    reduce_lr=tf.keras.callbacks.ReduceLROnPlateau(monitor='val_loss',verbose=1)\n",
    "\n",
    "    model_cp=tf.keras.callbacks.ModelCheckpoint('/kaggle/output',verbose=1)\n",
    "    model.compile(loss='binary_crossentropy',\n",
    "                  optimizer=tf.keras.optimizers.Adam(learning_rate=0.0001),\n",
    "                  metrics=['accuracy'])\n",
    "    return model,[reduce_lr,model_cp]\n"
   ]
  },
  {
   "cell_type": "code",
   "execution_count": 12,
   "id": "3d1ece70",
   "metadata": {
    "execution": {
     "iopub.execute_input": "2024-03-09T02:12:12.575767Z",
     "iopub.status.busy": "2024-03-09T02:12:12.575520Z",
     "iopub.status.idle": "2024-03-09T04:14:51.527065Z",
     "shell.execute_reply": "2024-03-09T04:14:51.526185Z"
    },
    "papermill": {
     "duration": 7366.363968,
     "end_time": "2024-03-09T04:14:58.933665",
     "exception": false,
     "start_time": "2024-03-09T02:12:12.569697",
     "status": "completed"
    },
    "tags": []
   },
   "outputs": [
    {
     "name": "stdout",
     "output_type": "stream",
     "text": [
      "Model: \"sequential\"\n",
      "_________________________________________________________________\n",
      " Layer (type)                Output Shape              Param #   \n",
      "=================================================================\n",
      " conv2d (Conv2D)             (None, 48, 48, 64)        1792      \n",
      "                                                                 \n",
      " batch_normalization (Batch  (None, 48, 48, 64)        256       \n",
      " Normalization)                                                  \n",
      "                                                                 \n",
      " max_pooling2d (MaxPooling2  (None, 24, 24, 64)        0         \n",
      " D)                                                              \n",
      "                                                                 \n",
      " conv2d_1 (Conv2D)           (None, 22, 22, 128)       73856     \n",
      "                                                                 \n",
      " batch_normalization_1 (Bat  (None, 22, 22, 128)       512       \n",
      " chNormalization)                                                \n",
      "                                                                 \n",
      " max_pooling2d_1 (MaxPoolin  (None, 11, 11, 128)       0         \n",
      " g2D)                                                            \n",
      "                                                                 \n",
      " conv2d_2 (Conv2D)           (None, 9, 9, 256)         295168    \n",
      "                                                                 \n",
      " batch_normalization_2 (Bat  (None, 9, 9, 256)         1024      \n",
      " chNormalization)                                                \n",
      "                                                                 \n",
      " max_pooling2d_2 (MaxPoolin  (None, 4, 4, 256)         0         \n",
      " g2D)                                                            \n",
      "                                                                 \n",
      " flatten (Flatten)           (None, 4096)              0         \n",
      "                                                                 \n",
      " dense (Dense)               (None, 128)               524416    \n",
      "                                                                 \n",
      " dense_1 (Dense)             (None, 512)               66048     \n",
      "                                                                 \n",
      " dropout (Dropout)           (None, 512)               0         \n",
      "                                                                 \n",
      " dense_2 (Dense)             (None, 1)                 513       \n",
      "                                                                 \n",
      "=================================================================\n",
      "Total params: 963585 (3.68 MB)\n",
      "Trainable params: 962689 (3.67 MB)\n",
      "Non-trainable params: 896 (3.50 KB)\n",
      "_________________________________________________________________\n",
      "Epoch 1/50\n"
     ]
    },
    {
     "name": "stderr",
     "output_type": "stream",
     "text": [
      "WARNING: All log messages before absl::InitializeLog() is called are written to STDERR\n",
      "I0000 00:00:1709950338.527519      81 device_compiler.h:186] Compiled cluster using XLA!  This line is logged at most once for the lifetime of the process.\n"
     ]
    },
    {
     "name": "stdout",
     "output_type": "stream",
     "text": [
      "4336/4337 [============================>.] - ETA: 0s - loss: 0.3396 - accuracy: 0.8559\n",
      "Epoch 1: saving model to /kaggle/output\n",
      "4337/4337 [==============================] - 159s 35ms/step - loss: 0.3396 - accuracy: 0.8559 - val_loss: 0.3670 - val_accuracy: 0.8451 - lr: 1.0000e-04\n",
      "Epoch 2/50\n",
      "4337/4337 [==============================] - ETA: 0s - loss: 0.3031 - accuracy: 0.8723\n",
      "Epoch 2: saving model to /kaggle/output\n",
      "4337/4337 [==============================] - 138s 32ms/step - loss: 0.3031 - accuracy: 0.8723 - val_loss: 0.3484 - val_accuracy: 0.8720 - lr: 1.0000e-04\n",
      "Epoch 3/50\n",
      "4337/4337 [==============================] - ETA: 0s - loss: 0.2815 - accuracy: 0.8817\n",
      "Epoch 3: saving model to /kaggle/output\n",
      "4337/4337 [==============================] - 139s 32ms/step - loss: 0.2815 - accuracy: 0.8817 - val_loss: 0.3473 - val_accuracy: 0.8548 - lr: 1.0000e-04\n",
      "Epoch 4/50\n",
      "4337/4337 [==============================] - ETA: 0s - loss: 0.2610 - accuracy: 0.8907\n",
      "Epoch 4: saving model to /kaggle/output\n",
      "4337/4337 [==============================] - 143s 33ms/step - loss: 0.2610 - accuracy: 0.8907 - val_loss: 0.3941 - val_accuracy: 0.8259 - lr: 1.0000e-04\n",
      "Epoch 5/50\n",
      "4337/4337 [==============================] - ETA: 0s - loss: 0.2364 - accuracy: 0.9023\n",
      "Epoch 5: saving model to /kaggle/output\n",
      "4337/4337 [==============================] - 139s 32ms/step - loss: 0.2364 - accuracy: 0.9023 - val_loss: 0.4289 - val_accuracy: 0.8313 - lr: 1.0000e-04\n",
      "Epoch 6/50\n",
      "4337/4337 [==============================] - ETA: 0s - loss: 0.2046 - accuracy: 0.9162\n",
      "Epoch 6: saving model to /kaggle/output\n",
      "4337/4337 [==============================] - 140s 32ms/step - loss: 0.2046 - accuracy: 0.9162 - val_loss: 0.2733 - val_accuracy: 0.8821 - lr: 1.0000e-04\n",
      "Epoch 7/50\n",
      "4337/4337 [==============================] - ETA: 0s - loss: 0.1672 - accuracy: 0.9326\n",
      "Epoch 7: saving model to /kaggle/output\n",
      "4337/4337 [==============================] - 139s 32ms/step - loss: 0.1672 - accuracy: 0.9326 - val_loss: 0.3636 - val_accuracy: 0.8490 - lr: 1.0000e-04\n",
      "Epoch 8/50\n",
      "4336/4337 [============================>.] - ETA: 0s - loss: 0.1314 - accuracy: 0.9482\n",
      "Epoch 8: saving model to /kaggle/output\n",
      "4337/4337 [==============================] - 138s 32ms/step - loss: 0.1313 - accuracy: 0.9482 - val_loss: 0.4775 - val_accuracy: 0.8066 - lr: 1.0000e-04\n",
      "Epoch 9/50\n",
      "4337/4337 [==============================] - ETA: 0s - loss: 0.1027 - accuracy: 0.9593\n",
      "Epoch 9: saving model to /kaggle/output\n",
      "4337/4337 [==============================] - 138s 32ms/step - loss: 0.1027 - accuracy: 0.9593 - val_loss: 0.3034 - val_accuracy: 0.8837 - lr: 1.0000e-04\n",
      "Epoch 10/50\n",
      "4336/4337 [============================>.] - ETA: 0s - loss: 0.0810 - accuracy: 0.9687\n",
      "Epoch 10: saving model to /kaggle/output\n",
      "4337/4337 [==============================] - 139s 32ms/step - loss: 0.0810 - accuracy: 0.9686 - val_loss: 0.0983 - val_accuracy: 0.9620 - lr: 1.0000e-04\n",
      "Epoch 11/50\n",
      "4336/4337 [============================>.] - ETA: 0s - loss: 0.0661 - accuracy: 0.9746\n",
      "Epoch 11: saving model to /kaggle/output\n",
      "4337/4337 [==============================] - 138s 32ms/step - loss: 0.0661 - accuracy: 0.9746 - val_loss: 0.6568 - val_accuracy: 0.7926 - lr: 1.0000e-04\n",
      "Epoch 12/50\n",
      "4336/4337 [============================>.] - ETA: 0s - loss: 0.0577 - accuracy: 0.9781\n",
      "Epoch 12: saving model to /kaggle/output\n",
      "4337/4337 [==============================] - 140s 32ms/step - loss: 0.0577 - accuracy: 0.9781 - val_loss: 0.1807 - val_accuracy: 0.9460 - lr: 1.0000e-04\n",
      "Epoch 13/50\n",
      "4337/4337 [==============================] - ETA: 0s - loss: 0.0496 - accuracy: 0.9814\n",
      "Epoch 13: saving model to /kaggle/output\n",
      "4337/4337 [==============================] - 141s 33ms/step - loss: 0.0496 - accuracy: 0.9814 - val_loss: 0.1579 - val_accuracy: 0.9469 - lr: 1.0000e-04\n",
      "Epoch 14/50\n",
      "4336/4337 [============================>.] - ETA: 0s - loss: 0.0444 - accuracy: 0.9832\n",
      "Epoch 14: saving model to /kaggle/output\n",
      "4337/4337 [==============================] - 139s 32ms/step - loss: 0.0444 - accuracy: 0.9832 - val_loss: 0.4773 - val_accuracy: 0.8971 - lr: 1.0000e-04\n",
      "Epoch 15/50\n",
      "4336/4337 [============================>.] - ETA: 0s - loss: 0.0408 - accuracy: 0.9852\n",
      "Epoch 15: saving model to /kaggle/output\n",
      "4337/4337 [==============================] - 141s 32ms/step - loss: 0.0408 - accuracy: 0.9852 - val_loss: 0.0758 - val_accuracy: 0.9723 - lr: 1.0000e-04\n",
      "Epoch 16/50\n",
      "4336/4337 [============================>.] - ETA: 0s - loss: 0.0365 - accuracy: 0.9865\n",
      "Epoch 16: saving model to /kaggle/output\n",
      "4337/4337 [==============================] - 138s 32ms/step - loss: 0.0365 - accuracy: 0.9865 - val_loss: 0.1058 - val_accuracy: 0.9663 - lr: 1.0000e-04\n",
      "Epoch 17/50\n",
      "4337/4337 [==============================] - ETA: 0s - loss: 0.0346 - accuracy: 0.9874\n",
      "Epoch 17: saving model to /kaggle/output\n",
      "4337/4337 [==============================] - 139s 32ms/step - loss: 0.0346 - accuracy: 0.9874 - val_loss: 0.0437 - val_accuracy: 0.9840 - lr: 1.0000e-04\n",
      "Epoch 18/50\n",
      "4337/4337 [==============================] - ETA: 0s - loss: 0.0314 - accuracy: 0.9883\n",
      "Epoch 18: saving model to /kaggle/output\n",
      "4337/4337 [==============================] - 138s 32ms/step - loss: 0.0314 - accuracy: 0.9883 - val_loss: 0.2926 - val_accuracy: 0.9210 - lr: 1.0000e-04\n",
      "Epoch 19/50\n",
      "4337/4337 [==============================] - ETA: 0s - loss: 0.0303 - accuracy: 0.9888\n",
      "Epoch 19: saving model to /kaggle/output\n",
      "4337/4337 [==============================] - 140s 32ms/step - loss: 0.0303 - accuracy: 0.9888 - val_loss: 0.0472 - val_accuracy: 0.9827 - lr: 1.0000e-04\n",
      "Epoch 20/50\n",
      "4336/4337 [============================>.] - ETA: 0s - loss: 0.0278 - accuracy: 0.9899\n",
      "Epoch 20: saving model to /kaggle/output\n",
      "4337/4337 [==============================] - 139s 32ms/step - loss: 0.0278 - accuracy: 0.9899 - val_loss: 0.1566 - val_accuracy: 0.9501 - lr: 1.0000e-04\n",
      "Epoch 21/50\n",
      "4336/4337 [============================>.] - ETA: 0s - loss: 0.0268 - accuracy: 0.9901\n",
      "Epoch 21: saving model to /kaggle/output\n",
      "4337/4337 [==============================] - 139s 32ms/step - loss: 0.0268 - accuracy: 0.9901 - val_loss: 0.0987 - val_accuracy: 0.9662 - lr: 1.0000e-04\n",
      "Epoch 22/50\n",
      "4336/4337 [============================>.] - ETA: 0s - loss: 0.0255 - accuracy: 0.9909\n",
      "Epoch 22: saving model to /kaggle/output\n",
      "4337/4337 [==============================] - 144s 33ms/step - loss: 0.0255 - accuracy: 0.9909 - val_loss: 0.1882 - val_accuracy: 0.9477 - lr: 1.0000e-04\n",
      "Epoch 23/50\n",
      "4336/4337 [============================>.] - ETA: 0s - loss: 0.0246 - accuracy: 0.9911\n",
      "Epoch 23: saving model to /kaggle/output\n",
      "4337/4337 [==============================] - 140s 32ms/step - loss: 0.0246 - accuracy: 0.9911 - val_loss: 0.0535 - val_accuracy: 0.9831 - lr: 1.0000e-04\n",
      "Epoch 24/50\n",
      "4336/4337 [============================>.] - ETA: 0s - loss: 0.0224 - accuracy: 0.9918\n",
      "Epoch 24: saving model to /kaggle/output\n",
      "4337/4337 [==============================] - 139s 32ms/step - loss: 0.0224 - accuracy: 0.9918 - val_loss: 0.1057 - val_accuracy: 0.9685 - lr: 1.0000e-04\n",
      "Epoch 25/50\n",
      "4337/4337 [==============================] - ETA: 0s - loss: 0.0226 - accuracy: 0.9917\n",
      "Epoch 25: saving model to /kaggle/output\n",
      "4337/4337 [==============================] - 137s 32ms/step - loss: 0.0226 - accuracy: 0.9917 - val_loss: 0.1081 - val_accuracy: 0.9641 - lr: 1.0000e-04\n",
      "Epoch 26/50\n",
      "4337/4337 [==============================] - ETA: 0s - loss: 0.0204 - accuracy: 0.9927\n",
      "Epoch 26: saving model to /kaggle/output\n",
      "4337/4337 [==============================] - 145s 33ms/step - loss: 0.0204 - accuracy: 0.9927 - val_loss: 0.2112 - val_accuracy: 0.9534 - lr: 1.0000e-04\n",
      "Epoch 27/50\n",
      "4335/4337 [============================>.] - ETA: 0s - loss: 0.0200 - accuracy: 0.9927\n",
      "Epoch 27: ReduceLROnPlateau reducing learning rate to 9.999999747378752e-06.\n",
      "\n",
      "Epoch 27: saving model to /kaggle/output\n",
      "4337/4337 [==============================] - 142s 33ms/step - loss: 0.0200 - accuracy: 0.9927 - val_loss: 0.0932 - val_accuracy: 0.9739 - lr: 1.0000e-04\n",
      "Epoch 28/50\n",
      "4336/4337 [============================>.] - ETA: 0s - loss: 0.0070 - accuracy: 0.9978\n",
      "Epoch 28: saving model to /kaggle/output\n",
      "4337/4337 [==============================] - 146s 34ms/step - loss: 0.0070 - accuracy: 0.9978 - val_loss: 0.0014 - val_accuracy: 0.9999 - lr: 1.0000e-05\n",
      "Epoch 29/50\n",
      "4337/4337 [==============================] - ETA: 0s - loss: 0.0026 - accuracy: 0.9994\n",
      "Epoch 29: saving model to /kaggle/output\n",
      "4337/4337 [==============================] - 148s 34ms/step - loss: 0.0026 - accuracy: 0.9994 - val_loss: 0.0027 - val_accuracy: 0.9992 - lr: 1.0000e-05\n",
      "Epoch 30/50\n",
      "4337/4337 [==============================] - ETA: 0s - loss: 0.0016 - accuracy: 0.9996\n",
      "Epoch 30: saving model to /kaggle/output\n",
      "4337/4337 [==============================] - 148s 34ms/step - loss: 0.0016 - accuracy: 0.9996 - val_loss: 0.0015 - val_accuracy: 0.9997 - lr: 1.0000e-05\n",
      "Epoch 31/50\n",
      "4336/4337 [============================>.] - ETA: 0s - loss: 0.0011 - accuracy: 0.9998\n",
      "Epoch 31: saving model to /kaggle/output\n",
      "4337/4337 [==============================] - 148s 34ms/step - loss: 0.0011 - accuracy: 0.9998 - val_loss: 2.3525e-04 - val_accuracy: 1.0000 - lr: 1.0000e-05\n",
      "Epoch 32/50\n",
      "4337/4337 [==============================] - ETA: 0s - loss: 8.7979e-04 - accuracy: 0.9998\n",
      "Epoch 32: saving model to /kaggle/output\n",
      "4337/4337 [==============================] - 150s 35ms/step - loss: 8.7979e-04 - accuracy: 0.9998 - val_loss: 1.0692e-04 - val_accuracy: 1.0000 - lr: 1.0000e-05\n",
      "Epoch 33/50\n",
      "4337/4337 [==============================] - ETA: 0s - loss: 7.7169e-04 - accuracy: 0.9998\n",
      "Epoch 33: saving model to /kaggle/output\n",
      "4337/4337 [==============================] - 147s 34ms/step - loss: 7.7169e-04 - accuracy: 0.9998 - val_loss: 1.1438e-04 - val_accuracy: 1.0000 - lr: 1.0000e-05\n",
      "Epoch 34/50\n",
      "4336/4337 [============================>.] - ETA: 0s - loss: 6.0982e-04 - accuracy: 0.9999\n",
      "Epoch 34: saving model to /kaggle/output\n",
      "4337/4337 [==============================] - 147s 34ms/step - loss: 6.0968e-04 - accuracy: 0.9999 - val_loss: 7.0695e-05 - val_accuracy: 1.0000 - lr: 1.0000e-05\n",
      "Epoch 35/50\n",
      "4336/4337 [============================>.] - ETA: 0s - loss: 5.1507e-04 - accuracy: 0.9999\n",
      "Epoch 35: saving model to /kaggle/output\n",
      "4337/4337 [==============================] - 147s 34ms/step - loss: 5.1495e-04 - accuracy: 0.9999 - val_loss: 6.1969e-05 - val_accuracy: 1.0000 - lr: 1.0000e-05\n",
      "Epoch 36/50\n",
      "4336/4337 [============================>.] - ETA: 0s - loss: 4.6482e-04 - accuracy: 0.9999\n",
      "Epoch 36: saving model to /kaggle/output\n",
      "4337/4337 [==============================] - 146s 34ms/step - loss: 4.6507e-04 - accuracy: 0.9999 - val_loss: 1.5175e-04 - val_accuracy: 1.0000 - lr: 1.0000e-05\n",
      "Epoch 37/50\n",
      "4337/4337 [==============================] - ETA: 0s - loss: 5.1510e-04 - accuracy: 0.9999\n",
      "Epoch 37: saving model to /kaggle/output\n",
      "4337/4337 [==============================] - 147s 34ms/step - loss: 5.1510e-04 - accuracy: 0.9999 - val_loss: 2.4627e-05 - val_accuracy: 1.0000 - lr: 1.0000e-05\n",
      "Epoch 38/50\n",
      "4337/4337 [==============================] - ETA: 0s - loss: 4.7244e-04 - accuracy: 0.9999\n",
      "Epoch 38: saving model to /kaggle/output\n",
      "4337/4337 [==============================] - 147s 34ms/step - loss: 4.7244e-04 - accuracy: 0.9999 - val_loss: 2.5508e-05 - val_accuracy: 1.0000 - lr: 1.0000e-05\n",
      "Epoch 39/50\n",
      "4337/4337 [==============================] - ETA: 0s - loss: 3.7770e-04 - accuracy: 0.9999\n",
      "Epoch 39: saving model to /kaggle/output\n",
      "4337/4337 [==============================] - 147s 34ms/step - loss: 3.7770e-04 - accuracy: 0.9999 - val_loss: 2.3324e-05 - val_accuracy: 1.0000 - lr: 1.0000e-05\n",
      "Epoch 40/50\n",
      "4337/4337 [==============================] - ETA: 0s - loss: 3.2964e-04 - accuracy: 0.9999\n",
      "Epoch 40: saving model to /kaggle/output\n",
      "4337/4337 [==============================] - 147s 34ms/step - loss: 3.2964e-04 - accuracy: 0.9999 - val_loss: 4.8442e-05 - val_accuracy: 1.0000 - lr: 1.0000e-05\n",
      "Epoch 41/50\n",
      "4336/4337 [============================>.] - ETA: 0s - loss: 4.2313e-04 - accuracy: 0.9999\n",
      "Epoch 41: saving model to /kaggle/output\n",
      "4337/4337 [==============================] - 147s 34ms/step - loss: 4.2307e-04 - accuracy: 0.9999 - val_loss: 0.0039 - val_accuracy: 0.9988 - lr: 1.0000e-05\n",
      "Epoch 42/50\n",
      "4336/4337 [============================>.] - ETA: 0s - loss: 3.2478e-04 - accuracy: 0.9999\n",
      "Epoch 42: ReduceLROnPlateau reducing learning rate to 9.999999747378752e-07.\n",
      "\n",
      "Epoch 42: saving model to /kaggle/output\n",
      "4337/4337 [==============================] - 147s 34ms/step - loss: 3.2487e-04 - accuracy: 0.9999 - val_loss: 2.6758e-05 - val_accuracy: 1.0000 - lr: 1.0000e-05\n",
      "Epoch 43/50\n",
      "4336/4337 [============================>.] - ETA: 0s - loss: 2.8518e-04 - accuracy: 0.9999\n",
      "Epoch 43: saving model to /kaggle/output\n",
      "4337/4337 [==============================] - 146s 34ms/step - loss: 2.8514e-04 - accuracy: 0.9999 - val_loss: 2.3135e-05 - val_accuracy: 1.0000 - lr: 1.0000e-06\n",
      "Epoch 44/50\n",
      "4336/4337 [============================>.] - ETA: 0s - loss: 2.6242e-04 - accuracy: 0.9999\n",
      "Epoch 44: saving model to /kaggle/output\n",
      "4337/4337 [==============================] - 147s 34ms/step - loss: 2.6236e-04 - accuracy: 0.9999 - val_loss: 1.6484e-05 - val_accuracy: 1.0000 - lr: 1.0000e-06\n",
      "Epoch 45/50\n",
      "4336/4337 [============================>.] - ETA: 0s - loss: 2.0839e-04 - accuracy: 1.0000\n",
      "Epoch 45: saving model to /kaggle/output\n",
      "4337/4337 [==============================] - 147s 34ms/step - loss: 2.0834e-04 - accuracy: 1.0000 - val_loss: 8.7424e-06 - val_accuracy: 1.0000 - lr: 1.0000e-06\n",
      "Epoch 46/50\n",
      "4337/4337 [==============================] - ETA: 0s - loss: 2.1529e-04 - accuracy: 0.9999\n",
      "Epoch 46: saving model to /kaggle/output\n",
      "4337/4337 [==============================] - 148s 34ms/step - loss: 2.1529e-04 - accuracy: 0.9999 - val_loss: 2.5641e-05 - val_accuracy: 1.0000 - lr: 1.0000e-06\n",
      "Epoch 47/50\n",
      "4336/4337 [============================>.] - ETA: 0s - loss: 1.8353e-04 - accuracy: 0.9999\n",
      "Epoch 47: saving model to /kaggle/output\n",
      "4337/4337 [==============================] - 148s 34ms/step - loss: 1.8349e-04 - accuracy: 0.9999 - val_loss: 3.2018e-05 - val_accuracy: 1.0000 - lr: 1.0000e-06\n",
      "Epoch 48/50\n",
      "4336/4337 [============================>.] - ETA: 0s - loss: 2.0003e-04 - accuracy: 0.9999\n",
      "Epoch 48: saving model to /kaggle/output\n",
      "4337/4337 [==============================] - 151s 35ms/step - loss: 1.9999e-04 - accuracy: 0.9999 - val_loss: 2.8733e-05 - val_accuracy: 1.0000 - lr: 1.0000e-06\n",
      "Epoch 49/50\n",
      "4337/4337 [==============================] - ETA: 0s - loss: 1.3098e-04 - accuracy: 1.0000\n",
      "Epoch 49: saving model to /kaggle/output\n",
      "4337/4337 [==============================] - 150s 35ms/step - loss: 1.3098e-04 - accuracy: 1.0000 - val_loss: 2.8448e-05 - val_accuracy: 1.0000 - lr: 1.0000e-06\n",
      "Epoch 50/50\n",
      "4337/4337 [==============================] - ETA: 0s - loss: 2.2003e-04 - accuracy: 0.9999\n",
      "Epoch 50: saving model to /kaggle/output\n",
      "4337/4337 [==============================] - 151s 35ms/step - loss: 2.2003e-04 - accuracy: 0.9999 - val_loss: 1.1326e-05 - val_accuracy: 1.0000 - lr: 1.0000e-06\n"
     ]
    }
   ],
   "source": [
    "model,callbacks=create_model((50,50,3))\n",
    "model.summary()\n",
    "#Fit model\n",
    "history = model.fit(\n",
    "      train_generator,\n",
    "      epochs=50,\n",
    "      verbose=1,\n",
    "      validation_data = validation_generator,callbacks=callbacks)\n"
   ]
  },
  {
   "cell_type": "code",
   "execution_count": 13,
   "id": "4b9d4ca3",
   "metadata": {
    "execution": {
     "iopub.execute_input": "2024-03-09T04:15:17.804197Z",
     "iopub.status.busy": "2024-03-09T04:15:17.803843Z",
     "iopub.status.idle": "2024-03-09T04:15:18.041212Z",
     "shell.execute_reply": "2024-03-09T04:15:18.040257Z"
    },
    "papermill": {
     "duration": 9.80369,
     "end_time": "2024-03-09T04:15:18.043499",
     "exception": false,
     "start_time": "2024-03-09T04:15:08.239809",
     "status": "completed"
    },
    "tags": []
   },
   "outputs": [
    {
     "data": {
      "image/png": "[encoded data removed]",
      "text/plain": [
       "<Figure size 640x480 with 1 Axes>"
      ]
     },
     "metadata": {},
     "output_type": "display_data"
    }
   ],
   "source": [
    "import matplotlib.pyplot as plt\n",
    "acc = history.history['accuracy']\n",
    "val_acc = history.history['val_accuracy']\n",
    "loss = history.history['loss']\n",
    "val_loss = history.history['val_loss']\n",
    "\n",
    "epochs = range(len(acc))\n",
    "\n",
    "plt.plot(epochs, acc, 'r', label='Training accuracy', markersize=5)\n",
    "plt.plot(epochs, val_acc, 'b', label='Validation accuracy', markersize=5)\n",
    "plt.grid(True)\n",
    "plt.xlabel('Epochs', fontsize=12, fontweight='bold')  # Bold and increase font size for x-axis label\n",
    "plt.ylabel('Accuracy', fontsize=12, fontweight='bold')  # Bold and increase font size for y-axis label\n",
    "plt.legend(loc='lower right')\n",
    "plt.show()\n",
    "\n"
   ]
  },
  {
   "cell_type": "code",
   "execution_count": 14,
   "id": "a73fbc05",
   "metadata": {
    "execution": {
     "iopub.execute_input": "2024-03-09T04:15:36.993274Z",
     "iopub.status.busy": "2024-03-09T04:15:36.992370Z",
     "iopub.status.idle": "2024-03-09T04:15:37.222470Z",
     "shell.execute_reply": "2024-03-09T04:15:37.221447Z"
    },
    "papermill": {
     "duration": 9.823641,
     "end_time": "2024-03-09T04:15:37.225146",
     "exception": false,
     "start_time": "2024-03-09T04:15:27.401505",
     "status": "completed"
    },
    "tags": []
   },
   "outputs": [
    {
     "data": {
      "image/png": "[encoded data removed]",
      "text/plain": [
       "<Figure size 640x480 with 1 Axes>"
      ]
     },
     "metadata": {},
     "output_type": "display_data"
    }
   ],
   "source": [
    "plt.plot(epochs, loss, 'r', label='Training loss', markersize=5)  # Increase markersize\n",
    "plt.plot(epochs, val_loss, 'b', label='Validation loss', markersize=5)  # Increase markersize\n",
    "plt.xlabel('Epochs', fontsize=12, fontweight='bold')  # Bold and increase font size for x-axis label\n",
    "plt.ylabel('Accuracy', fontsize=12, fontweight='bold')  # Bold and increase font size for y-axis label\n",
    "plt.grid(True)  # Turn on grid\n",
    "plt.legend(loc=0)\n",
    "plt.show()\n"
   ]
  }
 ],
 "metadata": {
  "kaggle": {
   "accelerator": "gpu",
   "dataSources": [
    {
     "datasetId": 7415,
     "sourceId": 10564,
     "sourceType": "datasetVersion"
    }
   ],
   "dockerImageVersionId": 30648,
   "isGpuEnabled": true,
   "isInternetEnabled": true,
   "language": "python",
   "sourceType": "notebook"
  },
  "kernelspec": {
   "display_name": "Python 3",
   "language": "python",
   "name": "python3"
  },
  "language_info": {
   "codemirror_mode": {
    "name": "ipython",
    "version": 3
   },
   "file_extension": ".py",
   "mimetype": "text/x-python",
   "name": "python",
   "nbconvert_exporter": "python",
   "pygments_lexer": "ipython3",
   "version": "3.10.13"
  },
  "papermill": {
   "default_parameters": {},
   "duration": 9528.75166,
   "end_time": "2024-03-09T04:15:49.378104",
   "environment_variables": {},
   "exception": null,
   "input_path": "__notebook__.ipynb",
   "output_path": "__notebook__.ipynb",
   "parameters": {},
   "start_time": "2024-03-09T01:37:00.626444",
   "version": "2.5.0"
  }
 },
 "nbformat": 4,
 "nbformat_minor": 5
}
